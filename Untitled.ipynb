{
 "cells": [
  {
   "cell_type": "code",
   "execution_count": 1,
   "id": "19b523e2-b186-4d39-ab88-dc4b12029074",
   "metadata": {},
   "outputs": [],
   "source": [
    "import pandas as pd"
   ]
  },
  {
   "cell_type": "code",
   "execution_count": 2,
   "id": "edf4a324-ac7d-4a6b-8258-a9afd517a902",
   "metadata": {},
   "outputs": [],
   "source": [
    "def feature_significance(df,feature1,value,feature2):\n",
    "    filtered_df=df[df[feature2]==value]\n",
    "    \n",
    "    unique_vals=list(df[feature1].unique())\n",
    "    if len(unique_vals)>5:\n",
    "        return False\n",
    "    l=len(filtered_df)\n",
    "\n",
    "    corr_output=pd.Series([len(df[df[feature1]==i])/l for i in unique_vals])\n",
    "    stdev=corr_output.std(ddof=0)\n",
    "    print(feature1,stdev)\n",
    "    if stdev>=0.2:\n",
    "        return True\n",
    "\n",
    "    index=0\n",
    "    mean=corr_output.mean()\n",
    "    while index<len(corr_output):\n",
    "        if abs(corr_output.iloc[index]-mean)>=0.15:\n",
    "            return True\n",
    "        index+=1\n",
    "\n",
    "    return False\n",
    "\n",
    "def return_features(df,value,feature2):\n",
    "    new_col=[]\n",
    "    col=df.columns\n",
    "    for c in col:\n",
    "        if feature_significance(df,c,value,feature2):\n",
    "            new_col.append(c)\n",
    "\n",
    "        \n",
    "\n",
    "    return new_col\n",
    "\n",
    "    "
   ]
  },
  {
   "cell_type": "code",
   "execution_count": 3,
   "id": "7d8c3997-c0a5-4dbe-aedf-47bd1a3768aa",
   "metadata": {},
   "outputs": [],
   "source": [
    "df=pd.read_csv(\"marketing_campaign_dataset.csv\",header=0)"
   ]
  },
  {
   "cell_type": "code",
   "execution_count": 4,
   "id": "d20d6f10-e0d5-499f-94a6-c756c7c76b2f",
   "metadata": {},
   "outputs": [
    {
     "name": "stdout",
     "output_type": "stream",
     "text": [
      "<class 'pandas.core.frame.DataFrame'>\n",
      "RangeIndex: 200000 entries, 0 to 199999\n",
      "Data columns (total 16 columns):\n",
      " #   Column            Non-Null Count   Dtype  \n",
      "---  ------            --------------   -----  \n",
      " 0   Campaign_ID       200000 non-null  int64  \n",
      " 1   Company           200000 non-null  object \n",
      " 2   Campaign_Type     200000 non-null  object \n",
      " 3   Target_Audience   200000 non-null  object \n",
      " 4   Duration          200000 non-null  object \n",
      " 5   Channel_Used      200000 non-null  object \n",
      " 6   Conversion_Rate   200000 non-null  float64\n",
      " 7   Acquisition_Cost  200000 non-null  object \n",
      " 8   ROI               200000 non-null  float64\n",
      " 9   Location          200000 non-null  object \n",
      " 10  Language          200000 non-null  object \n",
      " 11  Clicks            200000 non-null  int64  \n",
      " 12  Impressions       200000 non-null  int64  \n",
      " 13  Engagement_Score  200000 non-null  int64  \n",
      " 14  Customer_Segment  200000 non-null  object \n",
      " 15  Date              200000 non-null  object \n",
      "dtypes: float64(2), int64(4), object(10)\n",
      "memory usage: 24.4+ MB\n"
     ]
    }
   ],
   "source": [
    "def convert_to_bins(column,num):\n",
    "    minn=column.min()\n",
    "    maxx=column.max()\n",
    "    step=(maxx-minn)/num\n",
    "    bins=[minn+(i*step) for i in range(num)]+[maxx]\n",
    "    return pd.cut(column,bins=bins,labels=list(range(num)),include_lowest=True)\n",
    "df.info()"
   ]
  },
  {
   "cell_type": "code",
   "execution_count": 5,
   "id": "b8c04930-9f93-4a89-90aa-ce31aa2d83b7",
   "metadata": {},
   "outputs": [
    {
     "name": "stdout",
     "output_type": "stream",
     "text": [
      "1\n",
      "Company 0.004741269296031729\n",
      "Campaign_Type 0.004029342940434622\n",
      "Target_Audience 0.0050900515966303215\n",
      "Duration 0.005266587672225505\n",
      "Conversion_Rate 0.09843033565864497\n",
      "Location 0.004652493899899206\n",
      "Language 0.0047173501561879215\n",
      "Customer_Segment 0.004767891337241546\n",
      "[]\n"
     ]
    }
   ],
   "source": [
    "def convert_acquisition(acquisition_cost):\n",
    "\n",
    "    return float(acquisition_cost.replace(\"$\",\"\").replace(\",\",\"\"))\n",
    "\n",
    "#df[\"Acquisition_Cost\"]=df[\"Acquisition_Cost\"].apply(convert_acquisition)\n",
    "\n",
    "df[\"Conversion_Rate\"]=convert_to_bins(df[\"Conversion_Rate\"],5).astype(int)\n",
    "print(1)\n",
    "print((return_features(df,4,\"Conversion_Rate\")))"
   ]
  },
  {
   "cell_type": "code",
   "execution_count": 6,
   "id": "4163cc86-1207-4afb-9227-c730a37029a0",
   "metadata": {},
   "outputs": [
    {
     "data": {
      "text/plain": [
       "<BarContainer object of 5 artists>"
      ]
     },
     "execution_count": 6,
     "metadata": {},
     "output_type": "execute_result"
    },
    {
     "data": {
      "image/png": "[encoded data removed]",
      "text/plain": [
       "<Figure size 640x480 with 1 Axes>"
      ]
     },
     "metadata": {},
     "output_type": "display_data"
    }
   ],
   "source": [
    "import matplotlib.pyplot as plt\n",
    "df1=df.groupby(\"Campaign_Type\")[\"Conversion_Rate\"].mean()\n",
    "plt.bar(df1.index,df1.values)"
   ]
  },
  {
   "cell_type": "code",
   "execution_count": null,
   "id": "a5b9196e-f701-41a2-950c-0234932340c1",
   "metadata": {},
   "outputs": [],
   "source": []
  }
 ],
 "metadata": {
  "kernelspec": {
   "display_name": "Python 3 (ipykernel)",
   "language": "python",
   "name": "python3"
  },
  "language_info": {
   "codemirror_mode": {
    "name": "ipython",
    "version": 3
   },
   "file_extension": ".py",
   "mimetype": "text/x-python",
   "name": "python",
   "nbconvert_exporter": "python",
   "pygments_lexer": "ipython3",
   "version": "3.11.9"
  }
 },
 "nbformat": 4,
 "nbformat_minor": 5
}
