{
 "cells": [
  {
   "cell_type": "code",
   "execution_count": null,
   "id": "2e184eae-96b5-48e1-8af3-61c8c32accdf",
   "metadata": {},
   "outputs": [],
   "source": []
  }
 ],
 "metadata": {
  "kernelspec": {
   "display_name": "",
   "name": ""
  },
  "language_info": {
   "name": ""
  }
 },
 "nbformat": 4,
 "nbformat_minor": 5
}
